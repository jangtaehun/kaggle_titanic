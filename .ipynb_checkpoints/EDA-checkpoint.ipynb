{
 "cells": [
  {
   "cell_type": "code",
   "execution_count": 158,
   "id": "ef55e9b9-3b6d-4977-8211-910ae069629f",
   "metadata": {},
   "outputs": [],
   "source": [
    "import numpy as np\n",
    "import pandas as pd\n",
    "import matplotlib.pyplot as plt\n",
    "import seaborn as sns\n",
    "\n",
    "train_df = pd.read_csv('./titanic/titanic_train.csv')\n",
    "predict_df = pd.read_csv('./titanic/test.csv')\n",
    "gender_submission_df = pd.read_csv('./titanic/gender_submission.csv')"
   ]
  },
  {
   "cell_type": "code",
   "execution_count": 159,
   "id": "75a0dd08-6ba0-46dd-afee-ae4eddb32322",
   "metadata": {},
   "outputs": [
    {
     "name": "stdout",
     "output_type": "stream",
     "text": [
      "train_df 데이터의 행 개수: 891\n",
      "train_df: 데이터 세트 Null 값 갯수  866\n",
      "PassengerId      0\n",
      "Survived         0\n",
      "Pclass           0\n",
      "Name             0\n",
      "Sex              0\n",
      "Age            177\n",
      "SibSp            0\n",
      "Parch            0\n",
      "Ticket           0\n",
      "Fare             0\n",
      "Cabin          687\n",
      "Embarked         2\n",
      "dtype: int64\n",
      "Index(['PassengerId', 'Survived', 'Pclass', 'Name', 'Sex', 'Age', 'SibSp',\n",
      "       'Parch', 'Ticket', 'Fare', 'Cabin', 'Embarked'],\n",
      "      dtype='object')\n",
      "------------------------------------------------------------ \n",
      "\n",
      "\n",
      "predict_df 데이터의 행 개수: 418\n",
      "predict_df: 데이터 세트 Null 값 갯수  414\n",
      "PassengerId      0\n",
      "Pclass           0\n",
      "Name             0\n",
      "Sex              0\n",
      "Age             86\n",
      "SibSp            0\n",
      "Parch            0\n",
      "Ticket           0\n",
      "Fare             1\n",
      "Cabin          327\n",
      "Embarked         0\n",
      "dtype: int64\n",
      "Index(['PassengerId', 'Pclass', 'Name', 'Sex', 'Age', 'SibSp', 'Parch',\n",
      "       'Ticket', 'Fare', 'Cabin', 'Embarked'],\n",
      "      dtype='object')\n",
      "------------------------------------------------------------ \n",
      "\n",
      "\n",
      "gender_submission_df 데이터의 행 개수: 418\n",
      "gender_submission_df: 데이터 세트 Null 값 갯수  0\n",
      "PassengerId    0\n",
      "Survived       0\n",
      "dtype: int64\n"
     ]
    }
   ],
   "source": [
    "print(\"train_df 데이터의 행 개수:\", len(train_df))\n",
    "print('train_df: 데이터 세트 Null 값 갯수 ',train_df.isnull().sum().sum())\n",
    "print(train_df.isnull().sum())\n",
    "print(train_df.columns)\n",
    "print(\"------------------------------------------------------------ \\n\\n\")\n",
    "\n",
    "print(\"predict_df 데이터의 행 개수:\", len(predict_df))\n",
    "print('predict_df: 데이터 세트 Null 값 갯수 ',predict_df.isnull().sum().sum())\n",
    "print(predict_df.isnull().sum())\n",
    "print(predict_df.columns)\n",
    "print(\"------------------------------------------------------------ \\n\\n\")\n",
    "\n",
    "print(f\"gender_submission_df 데이터의 행 개수: {gender_submission_df.shape[0]}\")\n",
    "print('gender_submission_df: 데이터 세트 Null 값 갯수 ',gender_submission_df.isnull().sum().sum())\n",
    "print(gender_submission_df.isnull().sum())"
   ]
  },
  {
   "cell_type": "code",
   "execution_count": 160,
   "id": "68109367-11a4-4a5d-8f00-8bf06931cd04",
   "metadata": {},
   "outputs": [
    {
     "data": {
      "text/plain": [
       "Survived\n",
       "0    549\n",
       "1    342\n",
       "Name: Survived, dtype: int64"
      ]
     },
     "execution_count": 160,
     "metadata": {},
     "output_type": "execute_result"
    }
   ],
   "source": [
    "train_df.groupby(['Survived'])['Survived'].count()"
   ]
  },
  {
   "cell_type": "code",
   "execution_count": 161,
   "id": "8e3edaa4-e0bb-4333-bd5b-2d045d4f8c18",
   "metadata": {},
   "outputs": [
    {
     "data": {
      "text/html": [
       "<div>\n",
       "<style scoped>\n",
       "    .dataframe tbody tr th:only-of-type {\n",
       "        vertical-align: middle;\n",
       "    }\n",
       "\n",
       "    .dataframe tbody tr th {\n",
       "        vertical-align: top;\n",
       "    }\n",
       "\n",
       "    .dataframe thead th {\n",
       "        text-align: right;\n",
       "    }\n",
       "</style>\n",
       "<table border=\"1\" class=\"dataframe\">\n",
       "  <thead>\n",
       "    <tr style=\"text-align: right;\">\n",
       "      <th></th>\n",
       "      <th>PassengerId</th>\n",
       "      <th>Survived</th>\n",
       "      <th>Pclass</th>\n",
       "      <th>Name</th>\n",
       "      <th>Sex</th>\n",
       "      <th>Age</th>\n",
       "      <th>SibSp</th>\n",
       "      <th>Parch</th>\n",
       "      <th>Ticket</th>\n",
       "      <th>Fare</th>\n",
       "      <th>Cabin</th>\n",
       "      <th>Embarked</th>\n",
       "    </tr>\n",
       "  </thead>\n",
       "  <tbody>\n",
       "    <tr>\n",
       "      <th>0</th>\n",
       "      <td>1</td>\n",
       "      <td>0</td>\n",
       "      <td>3</td>\n",
       "      <td>Braund, Mr. Owen Harris</td>\n",
       "      <td>male</td>\n",
       "      <td>22.0</td>\n",
       "      <td>1</td>\n",
       "      <td>0</td>\n",
       "      <td>A/5 21171</td>\n",
       "      <td>7.2500</td>\n",
       "      <td>NaN</td>\n",
       "      <td>S</td>\n",
       "    </tr>\n",
       "    <tr>\n",
       "      <th>1</th>\n",
       "      <td>2</td>\n",
       "      <td>1</td>\n",
       "      <td>1</td>\n",
       "      <td>Cumings, Mrs. John Bradley (Florence Briggs Th...</td>\n",
       "      <td>female</td>\n",
       "      <td>38.0</td>\n",
       "      <td>1</td>\n",
       "      <td>0</td>\n",
       "      <td>PC 17599</td>\n",
       "      <td>71.2833</td>\n",
       "      <td>C85</td>\n",
       "      <td>C</td>\n",
       "    </tr>\n",
       "    <tr>\n",
       "      <th>2</th>\n",
       "      <td>3</td>\n",
       "      <td>1</td>\n",
       "      <td>3</td>\n",
       "      <td>Heikkinen, Miss. Laina</td>\n",
       "      <td>female</td>\n",
       "      <td>26.0</td>\n",
       "      <td>0</td>\n",
       "      <td>0</td>\n",
       "      <td>STON/O2. 3101282</td>\n",
       "      <td>7.9250</td>\n",
       "      <td>NaN</td>\n",
       "      <td>S</td>\n",
       "    </tr>\n",
       "    <tr>\n",
       "      <th>3</th>\n",
       "      <td>4</td>\n",
       "      <td>1</td>\n",
       "      <td>1</td>\n",
       "      <td>Futrelle, Mrs. Jacques Heath (Lily May Peel)</td>\n",
       "      <td>female</td>\n",
       "      <td>35.0</td>\n",
       "      <td>1</td>\n",
       "      <td>0</td>\n",
       "      <td>113803</td>\n",
       "      <td>53.1000</td>\n",
       "      <td>C123</td>\n",
       "      <td>S</td>\n",
       "    </tr>\n",
       "    <tr>\n",
       "      <th>4</th>\n",
       "      <td>5</td>\n",
       "      <td>0</td>\n",
       "      <td>3</td>\n",
       "      <td>Allen, Mr. William Henry</td>\n",
       "      <td>male</td>\n",
       "      <td>35.0</td>\n",
       "      <td>0</td>\n",
       "      <td>0</td>\n",
       "      <td>373450</td>\n",
       "      <td>8.0500</td>\n",
       "      <td>NaN</td>\n",
       "      <td>S</td>\n",
       "    </tr>\n",
       "    <tr>\n",
       "      <th>...</th>\n",
       "      <td>...</td>\n",
       "      <td>...</td>\n",
       "      <td>...</td>\n",
       "      <td>...</td>\n",
       "      <td>...</td>\n",
       "      <td>...</td>\n",
       "      <td>...</td>\n",
       "      <td>...</td>\n",
       "      <td>...</td>\n",
       "      <td>...</td>\n",
       "      <td>...</td>\n",
       "      <td>...</td>\n",
       "    </tr>\n",
       "    <tr>\n",
       "      <th>886</th>\n",
       "      <td>887</td>\n",
       "      <td>0</td>\n",
       "      <td>2</td>\n",
       "      <td>Montvila, Rev. Juozas</td>\n",
       "      <td>male</td>\n",
       "      <td>27.0</td>\n",
       "      <td>0</td>\n",
       "      <td>0</td>\n",
       "      <td>211536</td>\n",
       "      <td>13.0000</td>\n",
       "      <td>NaN</td>\n",
       "      <td>S</td>\n",
       "    </tr>\n",
       "    <tr>\n",
       "      <th>887</th>\n",
       "      <td>888</td>\n",
       "      <td>1</td>\n",
       "      <td>1</td>\n",
       "      <td>Graham, Miss. Margaret Edith</td>\n",
       "      <td>female</td>\n",
       "      <td>19.0</td>\n",
       "      <td>0</td>\n",
       "      <td>0</td>\n",
       "      <td>112053</td>\n",
       "      <td>30.0000</td>\n",
       "      <td>B42</td>\n",
       "      <td>S</td>\n",
       "    </tr>\n",
       "    <tr>\n",
       "      <th>888</th>\n",
       "      <td>889</td>\n",
       "      <td>0</td>\n",
       "      <td>3</td>\n",
       "      <td>Johnston, Miss. Catherine Helen \"Carrie\"</td>\n",
       "      <td>female</td>\n",
       "      <td>NaN</td>\n",
       "      <td>1</td>\n",
       "      <td>2</td>\n",
       "      <td>W./C. 6607</td>\n",
       "      <td>23.4500</td>\n",
       "      <td>NaN</td>\n",
       "      <td>S</td>\n",
       "    </tr>\n",
       "    <tr>\n",
       "      <th>889</th>\n",
       "      <td>890</td>\n",
       "      <td>1</td>\n",
       "      <td>1</td>\n",
       "      <td>Behr, Mr. Karl Howell</td>\n",
       "      <td>male</td>\n",
       "      <td>26.0</td>\n",
       "      <td>0</td>\n",
       "      <td>0</td>\n",
       "      <td>111369</td>\n",
       "      <td>30.0000</td>\n",
       "      <td>C148</td>\n",
       "      <td>C</td>\n",
       "    </tr>\n",
       "    <tr>\n",
       "      <th>890</th>\n",
       "      <td>891</td>\n",
       "      <td>0</td>\n",
       "      <td>3</td>\n",
       "      <td>Dooley, Mr. Patrick</td>\n",
       "      <td>male</td>\n",
       "      <td>32.0</td>\n",
       "      <td>0</td>\n",
       "      <td>0</td>\n",
       "      <td>370376</td>\n",
       "      <td>7.7500</td>\n",
       "      <td>NaN</td>\n",
       "      <td>Q</td>\n",
       "    </tr>\n",
       "  </tbody>\n",
       "</table>\n",
       "<p>891 rows × 12 columns</p>\n",
       "</div>"
      ],
      "text/plain": [
       "     PassengerId  Survived  Pclass  \\\n",
       "0              1         0       3   \n",
       "1              2         1       1   \n",
       "2              3         1       3   \n",
       "3              4         1       1   \n",
       "4              5         0       3   \n",
       "..           ...       ...     ...   \n",
       "886          887         0       2   \n",
       "887          888         1       1   \n",
       "888          889         0       3   \n",
       "889          890         1       1   \n",
       "890          891         0       3   \n",
       "\n",
       "                                                  Name     Sex   Age  SibSp  \\\n",
       "0                              Braund, Mr. Owen Harris    male  22.0      1   \n",
       "1    Cumings, Mrs. John Bradley (Florence Briggs Th...  female  38.0      1   \n",
       "2                               Heikkinen, Miss. Laina  female  26.0      0   \n",
       "3         Futrelle, Mrs. Jacques Heath (Lily May Peel)  female  35.0      1   \n",
       "4                             Allen, Mr. William Henry    male  35.0      0   \n",
       "..                                                 ...     ...   ...    ...   \n",
       "886                              Montvila, Rev. Juozas    male  27.0      0   \n",
       "887                       Graham, Miss. Margaret Edith  female  19.0      0   \n",
       "888           Johnston, Miss. Catherine Helen \"Carrie\"  female   NaN      1   \n",
       "889                              Behr, Mr. Karl Howell    male  26.0      0   \n",
       "890                                Dooley, Mr. Patrick    male  32.0      0   \n",
       "\n",
       "     Parch            Ticket     Fare Cabin Embarked  \n",
       "0        0         A/5 21171   7.2500   NaN        S  \n",
       "1        0          PC 17599  71.2833   C85        C  \n",
       "2        0  STON/O2. 3101282   7.9250   NaN        S  \n",
       "3        0            113803  53.1000  C123        S  \n",
       "4        0            373450   8.0500   NaN        S  \n",
       "..     ...               ...      ...   ...      ...  \n",
       "886      0            211536  13.0000   NaN        S  \n",
       "887      0            112053  30.0000   B42        S  \n",
       "888      2        W./C. 6607  23.4500   NaN        S  \n",
       "889      0            111369  30.0000  C148        C  \n",
       "890      0            370376   7.7500   NaN        Q  \n",
       "\n",
       "[891 rows x 12 columns]"
      ]
     },
     "execution_count": 161,
     "metadata": {},
     "output_type": "execute_result"
    }
   ],
   "source": [
    "train_df"
   ]
  },
  {
   "cell_type": "markdown",
   "id": "57cf4628-61e4-4c51-873f-a84fbac5bcc9",
   "metadata": {},
   "source": [
    "# Sex"
   ]
  },
  {
   "cell_type": "code",
   "execution_count": 162,
   "id": "886f20ae-15de-40dc-b409-491a153e6232",
   "metadata": {},
   "outputs": [
    {
     "name": "stdout",
     "output_type": "stream",
     "text": [
      "성별 분포\n"
     ]
    },
    {
     "data": {
      "text/plain": [
       "Sex\n",
       "male      577\n",
       "female    314\n",
       "Name: count, dtype: int64"
      ]
     },
     "execution_count": 162,
     "metadata": {},
     "output_type": "execute_result"
    }
   ],
   "source": [
    "print('성별 분포')\n",
    "train_df['Sex'].value_counts()"
   ]
  },
  {
   "cell_type": "code",
   "execution_count": 163,
   "id": "6b925e02-2b77-441a-af71-825823e6c5fa",
   "metadata": {},
   "outputs": [
    {
     "name": "stdout",
     "output_type": "stream",
     "text": [
      "Sex     Survived\n",
      "female  0            81\n",
      "        1           233\n",
      "male    0           468\n",
      "        1           109\n",
      "Name: Survived, dtype: int64\n",
      "\n",
      "-------------------------------------------------------------\n",
      "\n",
      "여성 생존률: 74.2\n",
      "남성 생존률: 18.89\n"
     ]
    }
   ],
   "source": [
    "print(train_df.groupby(['Sex','Survived'])['Survived'].count())\n",
    "print(\"\\n-------------------------------------------------------------\\n\")\n",
    "\n",
    "female = train_df[train_df['Sex'] == 'female'].shape[0]\n",
    "female_0 = train_df[(train_df['Sex'] == 'female') & (train_df['Survived'] == 0)].shape[0]\n",
    "female_1 = train_df[(train_df['Sex'] == 'female') & (train_df['Survived'] == 1)].shape[0]\n",
    "\n",
    "male = train_df[train_df['Sex'] == 'male'].shape[0]\n",
    "male_0 = train_df[(train_df['Sex'] == 'male') & (train_df['Survived'] == 0)].shape[0]\n",
    "male_1 = train_df[(train_df['Sex'] == 'male') & (train_df['Survived'] == 1)].shape[0]\n",
    "\n",
    "print(f\"여성 생존률: {round(female_1 / (female_0 + female_1) * 100, 2)}\")\n",
    "print(f\"남성 생존률: {round(male_1 / (male_0 + male_1) * 100, 2)}\")"
   ]
  },
  {
   "cell_type": "code",
   "execution_count": 164,
   "id": "4fc835ef-a698-4e9f-a261-cd5a78273d9f",
   "metadata": {},
   "outputs": [
    {
     "name": "stderr",
     "output_type": "stream",
     "text": [
      "/var/folders/7p/kq4ytf3n0rx3163p8dqq9x080000gn/T/ipykernel_3083/3875526198.py:2: FutureWarning: \n",
      "\n",
      "Passing `palette` without assigning `hue` is deprecated and will be removed in v0.14.0. Assign the `x` variable to `hue` and set `legend=False` for the same effect.\n",
      "\n",
      "  sns.barplot(x='Sex', y = 'Survived', data=train_df, palette=custom_palette)\n"
     ]
    },
    {
     "data": {
      "text/plain": [
       "<Axes: xlabel='Sex', ylabel='Survived'>"
      ]
     },
     "execution_count": 164,
     "metadata": {},
     "output_type": "execute_result"
    },
    {
     "data": {
      "image/png": "[encoded data removed]",
      "text/plain": [
       "<Figure size 640x480 with 1 Axes>"
      ]
     },
     "metadata": {},
     "output_type": "display_data"
    }
   ],
   "source": [
    "custom_palette = [\"#FFA07A\", \"#AFEEEE\"]\n",
    "sns.barplot(x='Sex', y = 'Survived', data=train_df, palette=custom_palette)"
   ]
  },
  {
   "cell_type": "markdown",
   "id": "1d1409cb-c641-4a08-91a6-d0f6ccff8755",
   "metadata": {},
   "source": [
    "# Age"
   ]
  },
  {
   "cell_type": "code",
   "execution_count": 165,
   "id": "b3b54ede-3bb0-469b-a650-7f7cac393d83",
   "metadata": {},
   "outputs": [
    {
     "data": {
      "text/plain": [
       "Age    Survived\n",
       "0.42   1           1\n",
       "0.67   1           1\n",
       "0.75   1           2\n",
       "0.83   1           2\n",
       "0.92   1           1\n",
       "                  ..\n",
       "70.00  0           2\n",
       "70.50  0           1\n",
       "71.00  0           2\n",
       "74.00  0           1\n",
       "80.00  1           1\n",
       "Name: Survived, Length: 142, dtype: int64"
      ]
     },
     "execution_count": 165,
     "metadata": {},
     "output_type": "execute_result"
    }
   ],
   "source": [
    "train_df.groupby(['Age', 'Survived'])['Survived'].count()"
   ]
  },
  {
   "cell_type": "code",
   "execution_count": 166,
   "id": "5686dfdf-09f8-4e19-a111-ae67d8727e65",
   "metadata": {},
   "outputs": [
    {
     "data": {
      "text/plain": [
       "Pclass\n",
       "1     30\n",
       "2     11\n",
       "3    136\n",
       "Name: PassengerId, dtype: int64"
      ]
     },
     "execution_count": 166,
     "metadata": {},
     "output_type": "execute_result"
    }
   ],
   "source": [
    "nan_age_df = train_df[train_df['Age'].isna()]\n",
    "nan_counts_by_pclass = nan_age_df.groupby(['Pclass'])['PassengerId'].count()\n",
    "nan_counts_by_pclass"
   ]
  },
  {
   "cell_type": "code",
   "execution_count": 167,
   "id": "fb57b1d7-ce09-49ce-83fb-76dc69afb455",
   "metadata": {},
   "outputs": [
    {
     "data": {
      "text/plain": [
       "0"
      ]
     },
     "execution_count": 167,
     "metadata": {},
     "output_type": "execute_result"
    }
   ],
   "source": [
    "average_pclass = train_df.groupby('Pclass')['Age'].mean()\n",
    "train_df['Age'] = train_df.apply(lambda row: average_pclass[row['Pclass']] if pd.isna(row['Age']) else row['Age'], axis=1)\n",
    "# NaN 값 확인\n",
    "train_df['Age'].isna().sum()"
   ]
  },
  {
   "cell_type": "code",
   "execution_count": 168,
   "id": "234ec7ef-3257-4a6d-8bc0-756a9eb861eb",
   "metadata": {},
   "outputs": [],
   "source": [
    "def get_category(age):\n",
    "    cat = ''\n",
    "    if age <= -1: cat = 'Unknown'\n",
    "    elif age <= 8: cat = 'Baby'\n",
    "    elif age <= 13: cat = 'Child'\n",
    "    elif age <= 19: cat = 'Teenager'\n",
    "    elif age <= 26: cat = 'Student'\n",
    "    elif age <= 39: cat = 'Young Adult'\n",
    "    elif age <= 64: cat = 'Adult'\n",
    "    else: cat = 'Elderly'        \n",
    "    return cat\n",
    "\n",
    "group_names = ['Unknown', 'Baby', 'Child', 'Teenager', 'Student', 'Young Adult', 'Adult', 'Elderly']\n",
    " \n",
    "train_df['Age_range'] = train_df['Age'].apply(lambda x : get_category(x))\n",
    "predict_df['Age_range'] = predict_df['Age'].apply(lambda x : get_category(x))"
   ]
  },
  {
   "cell_type": "code",
   "execution_count": 169,
   "id": "209c06e8-84f3-45eb-a787-8d3135824016",
   "metadata": {},
   "outputs": [
    {
     "data": {
      "text/html": [
       "<div>\n",
       "<style scoped>\n",
       "    .dataframe tbody tr th:only-of-type {\n",
       "        vertical-align: middle;\n",
       "    }\n",
       "\n",
       "    .dataframe tbody tr th {\n",
       "        vertical-align: top;\n",
       "    }\n",
       "\n",
       "    .dataframe thead th {\n",
       "        text-align: right;\n",
       "    }\n",
       "</style>\n",
       "<table border=\"1\" class=\"dataframe\">\n",
       "  <thead>\n",
       "    <tr style=\"text-align: right;\">\n",
       "      <th>Pclass</th>\n",
       "      <th>1</th>\n",
       "      <th>2</th>\n",
       "      <th>3</th>\n",
       "    </tr>\n",
       "    <tr>\n",
       "      <th>Age_range</th>\n",
       "      <th></th>\n",
       "      <th></th>\n",
       "      <th></th>\n",
       "    </tr>\n",
       "  </thead>\n",
       "  <tbody>\n",
       "    <tr>\n",
       "      <th>Adult</th>\n",
       "      <td>75</td>\n",
       "      <td>35</td>\n",
       "      <td>42</td>\n",
       "    </tr>\n",
       "    <tr>\n",
       "      <th>Baby</th>\n",
       "      <td>3</td>\n",
       "      <td>17</td>\n",
       "      <td>34</td>\n",
       "    </tr>\n",
       "    <tr>\n",
       "      <th>Child</th>\n",
       "      <td>1</td>\n",
       "      <td>1</td>\n",
       "      <td>15</td>\n",
       "    </tr>\n",
       "    <tr>\n",
       "      <th>Elderly</th>\n",
       "      <td>6</td>\n",
       "      <td>2</td>\n",
       "      <td>3</td>\n",
       "    </tr>\n",
       "    <tr>\n",
       "      <th>Student</th>\n",
       "      <td>23</td>\n",
       "      <td>32</td>\n",
       "      <td>236</td>\n",
       "    </tr>\n",
       "    <tr>\n",
       "      <th>Teenager</th>\n",
       "      <td>17</td>\n",
       "      <td>17</td>\n",
       "      <td>59</td>\n",
       "    </tr>\n",
       "    <tr>\n",
       "      <th>Young Adult</th>\n",
       "      <td>91</td>\n",
       "      <td>80</td>\n",
       "      <td>102</td>\n",
       "    </tr>\n",
       "  </tbody>\n",
       "</table>\n",
       "</div>"
      ],
      "text/plain": [
       "Pclass        1   2    3\n",
       "Age_range               \n",
       "Adult        75  35   42\n",
       "Baby          3  17   34\n",
       "Child         1   1   15\n",
       "Elderly       6   2    3\n",
       "Student      23  32  236\n",
       "Teenager     17  17   59\n",
       "Young Adult  91  80  102"
      ]
     },
     "execution_count": 169,
     "metadata": {},
     "output_type": "execute_result"
    }
   ],
   "source": [
    "age_range_pclass = train_df.groupby(['Age_range', 'Pclass']).size().unstack()\n",
    "age_range_pclass"
   ]
  },
  {
   "cell_type": "code",
   "execution_count": 170,
   "id": "01dfed26-5de5-4951-b40c-6f31ac50253d",
   "metadata": {},
   "outputs": [
    {
     "data": {
      "text/plain": [
       "<Axes: xlabel='Age_range', ylabel='Survived'>"
      ]
     },
     "execution_count": 170,
     "metadata": {},
     "output_type": "execute_result"
    },
    {
     "data": {
      "image/png": "[encoded data removed]",
      "text/plain": [
       "<Figure size 1000x600 with 1 Axes>"
      ]
     },
     "metadata": {},
     "output_type": "display_data"
    }
   ],
   "source": [
    "# 시각화\n",
    "plt.figure(figsize=(10,6))\n",
    "sns.barplot(x='Age_range', y = 'Survived', hue='Sex', data=train_df, order=group_names)"
   ]
  },
  {
   "cell_type": "code",
   "execution_count": 171,
   "id": "59248f8b-1c30-4bbe-9f4f-b3c9529978ab",
   "metadata": {},
   "outputs": [
    {
     "data": {
      "text/plain": [
       "Pclass\n",
       "1     1\n",
       "2     1\n",
       "3    15\n",
       "Name: Child, dtype: int64"
      ]
     },
     "execution_count": 171,
     "metadata": {},
     "output_type": "execute_result"
    }
   ],
   "source": [
    "age_range_pclass_distribution = train_df.groupby(['Age_range', 'Pclass']).size().unstack()\n",
    "child_pclass_distribution = age_range_pclass_distribution.loc['Child']\n",
    "child_pclass_distribution"
   ]
  },
  {
   "cell_type": "markdown",
   "id": "e0112eb4-9e2b-41eb-81f3-a5d622ecb8e4",
   "metadata": {},
   "source": [
    "# 사회적 지위"
   ]
  },
  {
   "cell_type": "code",
   "execution_count": 172,
   "id": "ffa6af1e-a9a5-4a66-ac02-394e20f85a7a",
   "metadata": {},
   "outputs": [
    {
     "data": {
      "text/plain": [
       "Pclass\n",
       "3    491\n",
       "1    216\n",
       "2    184\n",
       "Name: count, dtype: int64"
      ]
     },
     "execution_count": 172,
     "metadata": {},
     "output_type": "execute_result"
    }
   ],
   "source": [
    "train_df['Pclass'].value_counts()"
   ]
  },
  {
   "cell_type": "code",
   "execution_count": 173,
   "id": "c7f3aca2-3f13-42b0-bf56-1c5c8c6e7156",
   "metadata": {},
   "outputs": [
    {
     "name": "stderr",
     "output_type": "stream",
     "text": [
      "/var/folders/7p/kq4ytf3n0rx3163p8dqq9x080000gn/T/ipykernel_3083/2324609461.py:14: FutureWarning: \n",
      "\n",
      "Passing `palette` without assigning `hue` is deprecated and will be removed in v0.14.0. Assign the `x` variable to `hue` and set `legend=False` for the same effect.\n",
      "\n",
      "  ax = sns.barplot(x='Pclass', y='Survival Rate (%)', data=pclass_survived, palette=custom_palette)\n",
      "No artists with labels found to put in legend.  Note that artists whose label start with an underscore are ignored when legend() is called with no argument.\n"
     ]
    },
    {
     "data": {
      "image/png": "[encoded data removed]",
      "text/plain": [
       "<Figure size 640x480 with 1 Axes>"
      ]
     },
     "metadata": {},
     "output_type": "display_data"
    }
   ],
   "source": [
    "pclass = [\"1\", \"2\", \"3\"]\n",
    "pclass_survived = {}\n",
    "for i in pclass:\n",
    "    total = train_df[train_df['Pclass'] == int(i)].shape[0]\n",
    "    survived =  train_df[(train_df['Pclass'] == int(i)) & (train_df['Survived'] == 1)].shape[0]\n",
    "    pclass_survived[i] = round(survived / total * 100, 2)\n",
    "\n",
    "pclass_survived = pd.DataFrame.from_dict(pclass_survived, orient='index', columns=['Survival Rate (%)'])\n",
    "pclass_survived = pclass_survived.reset_index()\n",
    "pclass_survived.columns = ['Pclass', 'Survival Rate (%)']\n",
    "\n",
    "custom_palette = [\"#E6E6FA\", \"#FFA07A\", \"#AFEEEE\"]\n",
    "plt.figure()\n",
    "ax = sns.barplot(x='Pclass', y='Survival Rate (%)', data=pclass_survived, palette=custom_palette)\n",
    "\n",
    "for i, v in enumerate(pclass_survived['Survival Rate (%)']):\n",
    "    ax.text(i, v, f\"{v:.0f}%\", color='black', ha='center', va='bottom', fontsize=10)\n",
    "\n",
    "# 제목, x축 레이블, y축 레이블 추가\n",
    "plt.title('Survival Rate by Pclass')\n",
    "plt.xlabel('Pclass')\n",
    "plt.ylabel('Survival Rate (%)')\n",
    "plt.legend()\n",
    "plt.show()"
   ]
  },
  {
   "cell_type": "code",
   "execution_count": 174,
   "id": "42baf06e-b846-44f6-ace1-a9fc3d60eb72",
   "metadata": {},
   "outputs": [
    {
     "data": {
      "text/plain": [
       "Fare      Survived\n",
       "0.0000    0           14\n",
       "          1            1\n",
       "4.0125    0            1\n",
       "5.0000    0            1\n",
       "6.2375    0            1\n",
       "                      ..\n",
       "247.5208  1            1\n",
       "262.3750  1            2\n",
       "263.0000  0            2\n",
       "          1            2\n",
       "512.3292  1            3\n",
       "Name: Survived, Length: 330, dtype: int64"
      ]
     },
     "execution_count": 174,
     "metadata": {},
     "output_type": "execute_result"
    }
   ],
   "source": [
    "train_df.groupby(['Fare','Survived'])['Survived'].count()"
   ]
  },
  {
   "cell_type": "code",
   "execution_count": 175,
   "id": "bbe1a7d7-67e7-4fdc-8775-fc5dbef8b074",
   "metadata": {},
   "outputs": [
    {
     "name": "stderr",
     "output_type": "stream",
     "text": [
      "/var/folders/7p/kq4ytf3n0rx3163p8dqq9x080000gn/T/ipykernel_3083/1465756381.py:30: FutureWarning: \n",
      "\n",
      "Passing `palette` without assigning `hue` is deprecated and will be removed in v0.14.0. Assign the `x` variable to `hue` and set `legend=False` for the same effect.\n",
      "\n",
      "  ax = sns.barplot(x='Fare_range', y='Survival Rate (%)', data=fare_survived_df, palette=custom_palette)\n"
     ]
    },
    {
     "data": {
      "image/png": "[encoded data removed]",
      "text/plain": [
       "<Figure size 1000x600 with 1 Axes>"
      ]
     },
     "metadata": {},
     "output_type": "display_data"
    }
   ],
   "source": [
    "def get_category(fare):\n",
    "    cat = ''\n",
    "    if fare >= 30: cat = 1\n",
    "    elif fare >= 12: cat = 2\n",
    "    else: cat = 3\n",
    "    return cat\n",
    "\n",
    "group_names = [1, 2, 3]\n",
    " \n",
    "train_df['Fare_range'] = train_df['Fare'].apply(lambda x : get_category(x))\n",
    "predict_df['Fare_range'] = predict_df['Fare'].apply(lambda x : get_category(x))\n",
    "\n",
    "Fare_ranges = np.unique(train_df['Fare_range'].values)\n",
    "Fare_range_survived = {}\n",
    "\n",
    "for i in Fare_ranges:\n",
    "    total = train_df[train_df['Fare_range'] == int(i)].shape[0]\n",
    "    survived =  train_df[(train_df['Fare_range'] == int(i)) & (train_df['Survived'] == 1)].shape[0]\n",
    "    if survived != 0:\n",
    "        Fare_range_survived[i] = round(survived / total * 100, 2) \n",
    "    else:\n",
    "        Fare_range_survived[i] = 0\n",
    "\n",
    "fare_survived_df = pd.DataFrame.from_dict(Fare_range_survived, orient='index', columns=['Survival Rate (%)'])\n",
    "fare_survived_df = fare_survived_df.reset_index()\n",
    "fare_survived_df.columns = ['Fare_range', 'Survival Rate (%)']\n",
    "\n",
    "custom_palette = [\"#FF6B6B\", \"#FFD93D\", \"#9BDE7C\"]\n",
    "plt.figure(figsize=(10,6))\n",
    "ax = sns.barplot(x='Fare_range', y='Survival Rate (%)', data=fare_survived_df, palette=custom_palette)\n",
    "\n",
    "for i, v in enumerate(fare_survived_df['Survival Rate (%)']):\n",
    "    ax.text(i, v, f\"{v:.0f}%\", color='black', ha='center', va='bottom', fontsize=10)\n",
    "\n",
    "plt.title('Survival Rate by Fare Range')\n",
    "plt.xlabel('Fare Range')\n",
    "plt.ylabel('Survival Rate (%)')\n",
    "plt.xticks(ticks=[0, 1, 2], labels=['1', '2', '3'], rotation=0)\n",
    "plt.show()"
   ]
  },
  {
   "cell_type": "code",
   "execution_count": 179,
   "id": "763557ba-7829-42e4-bc10-4c0b4109c87a",
   "metadata": {},
   "outputs": [
    {
     "data": {
      "text/plain": [
       "Pclass  Fare_range\n",
       "1       1             174\n",
       "        2              36\n",
       "        3               6\n",
       "2       2             125\n",
       "        3              34\n",
       "        1              25\n",
       "3       3             333\n",
       "        2             117\n",
       "        1              41\n",
       "Name: count, dtype: int64"
      ]
     },
     "execution_count": 179,
     "metadata": {},
     "output_type": "execute_result"
    }
   ],
   "source": [
    "train_df.groupby(['Pclass'])['Fare_range'].value_counts()"
   ]
  },
  {
   "cell_type": "code",
   "execution_count": 182,
   "id": "f4ff2917-0a9d-47a7-b77a-0e37586ada7b",
   "metadata": {},
   "outputs": [
    {
     "data": {
      "text/plain": [
       "Pclass\n",
       "1      6\n",
       "2     34\n",
       "3    333\n",
       "dtype: int64"
      ]
     },
     "execution_count": 182,
     "metadata": {},
     "output_type": "execute_result"
    }
   ],
   "source": [
    "fare_range_3_data = train_df[train_df['Fare_range'] == 3]\n",
    "grouped_fare_range_3 = fare_range_3_data.groupby('Pclass').size()\n",
    "grouped_fare_range_3"
   ]
  },
  {
   "cell_type": "code",
   "execution_count": 177,
   "id": "0d804404-dc68-4b9b-8f46-143f64936fa7",
   "metadata": {},
   "outputs": [
    {
     "name": "stdout",
     "output_type": "stream",
     "text": [
      "['Pclass', 'Sex', 'Age_range'] \n",
      "\n"
     ]
    }
   ],
   "source": [
    "plcass_sex_age = [\n",
    "    'Pclass', 'Sex', 'Age_range']\n",
    "print(plcass_sex_age, '\\n')\n",
    "\n",
    "train_df['plcass_sex_age'] = train_df[plcass_sex_age].apply(lambda x: '_'.join(x.astype(str)), axis=1)\n",
    "predict_df['plcass_sex_age'] = predict_df[plcass_sex_age].apply(lambda x: '_'.join(x.astype(str)), axis=1)\n",
    "\n",
    "plcass_sex_age_to_drop = ['Pclass', 'Sex', 'Age_range']\n",
    "# train_df = train_df.drop(columns=[col for col in plcass_sex_age_to_drop if col in train_df.columns])\n",
    "# predict_df = predict_df.drop(columns=[col for col in plcass_sex_age_to_drop if col in predict_df.columns])"
   ]
  },
  {
   "cell_type": "code",
   "execution_count": 178,
   "id": "2c261202-eebe-4bcb-8356-4ec42e756134",
   "metadata": {},
   "outputs": [
    {
     "ename": "NameError",
     "evalue": "name 'stop' is not defined",
     "output_type": "error",
     "traceback": [
      "\u001b[0;31m---------------------------------------------------------------------------\u001b[0m",
      "\u001b[0;31mNameError\u001b[0m                                 Traceback (most recent call last)",
      "Cell \u001b[0;32mIn[178], line 1\u001b[0m\n\u001b[0;32m----> 1\u001b[0m \u001b[43mstop\u001b[49m\n",
      "\u001b[0;31mNameError\u001b[0m: name 'stop' is not defined"
     ]
    }
   ],
   "source": [
    "stop"
   ]
  },
  {
   "cell_type": "markdown",
   "id": "1bae0825-04cb-4d7d-b671-094ec8441f37",
   "metadata": {},
   "source": [
    "# Embarked"
   ]
  },
  {
   "cell_type": "code",
   "execution_count": null,
   "id": "a8c20b6e-da7f-4f16-b44c-b0779733c656",
   "metadata": {},
   "outputs": [],
   "source": [
    "print(train_df['Embarked'].count())\n",
    "train_df[train_df['Embarked'].isna()])"
   ]
  },
  {
   "cell_type": "code",
   "execution_count": null,
   "id": "f64b50ee-48d1-4743-9dfd-273ff4c63b8a",
   "metadata": {},
   "outputs": [],
   "source": [
    "embarked_pclass_counts = train_df.groupby(['Embarked', 'Pclass']).size().unstack()\n",
    "embarked_pclass_counts"
   ]
  },
  {
   "cell_type": "code",
   "execution_count": null,
   "id": "1223d5f9-13cf-40e7-a940-0905a3b50f19",
   "metadata": {},
   "outputs": [],
   "source": [
    "embarkeds = [\"C\", \"Q\", \"S\"]\n",
    "embarked_survived = {}\n",
    "\n",
    "for i in embarkeds:\n",
    "    total = train_df[train_df['Embarked'] == i].shape[0]\n",
    "    survived =  train_df[(train_df['Embarked'] == i) & (train_df['Survived'] == 1)].shape[0]\n",
    "    embarked_survived[i] = round(survived / total * 100, 2)\n",
    "\n",
    "for i in embarked_survived:\n",
    "    print(f\"{i} Embarked 생존률: {embarked_survived[i]}\")\n",
    "\n",
    "\n",
    "df_embarked_survived = pd.DataFrame.from_dict(embarked_survived, orient='index', columns=['Survival Rate (%)'])\n",
    "df_embarked_survived = df_embarked_survived.reset_index()\n",
    "df_embarked_survived.columns = ['Embarked', 'Survival Rate (%)']\n",
    "\n",
    "custom_palette = [\"#FF6B6B\", \"#FFD93D\", \"#9BDE7C\"]\n",
    "plt.figure()\n",
    "ax = sns.barplot(x='Embarked', y='Survival Rate (%)', data=df_embarked_survived, palette=custom_palette)\n",
    "\n",
    "for i, v in enumerate(df_embarked_survived['Survival Rate (%)']):\n",
    "    ax.text(i, v, f\"{v:.0f}%\", color='black', ha='center', va='bottom', fontsize=10)\n",
    "\n",
    "plt.title('Survival Rate by Embarked')\n",
    "plt.xlabel('Embarked')\n",
    "plt.ylabel('Survival Rate (%)')\n",
    "plt.legend()\n",
    "plt.show()"
   ]
  },
  {
   "cell_type": "code",
   "execution_count": null,
   "id": "60d9fe22-46fb-402b-9b0b-44692016a30d",
   "metadata": {},
   "outputs": [],
   "source": [
    "train_df.loc[train_df['Embarked'].isna(), 'Embarked'] = 'C'"
   ]
  },
  {
   "cell_type": "markdown",
   "id": "b5a08c6d-1e05-42b9-bd93-a6d6a30fccb1",
   "metadata": {},
   "source": [
    "# Cabin"
   ]
  },
  {
   "cell_type": "code",
   "execution_count": null,
   "id": "b67b6bf1-2e1b-438d-97db-3a733d739074",
   "metadata": {},
   "outputs": [],
   "source": [
    "train_df[train_df['Cabin'].isna()]"
   ]
  },
  {
   "cell_type": "markdown",
   "id": "d79debd9-42b2-4b0a-a205-387f8f2c55bd",
   "metadata": {},
   "source": [
    "# SibSp, Parch"
   ]
  },
  {
   "cell_type": "code",
   "execution_count": null,
   "id": "6518ac7c-8c0b-4511-9f47-72cbbe9fea29",
   "metadata": {},
   "outputs": [],
   "source": [
    "train_df.groupby(['SibSp','Survived'])['Survived'].count()"
   ]
  },
  {
   "cell_type": "code",
   "execution_count": null,
   "id": "7c71ac24-fc86-422a-b05e-fa2284c0c4d1",
   "metadata": {},
   "outputs": [],
   "source": [
    "train_df.groupby(['Parch','Survived'])['Survived'].count()"
   ]
  },
  {
   "cell_type": "markdown",
   "id": "f4c290cd-1bea-43f0-8556-7268c44d9f7b",
   "metadata": {},
   "source": [
    "# 필요 없는 feature 삭제"
   ]
  },
  {
   "cell_type": "code",
   "execution_count": null,
   "id": "cfd7e995-9161-423a-be4e-ab4b9fa6328e",
   "metadata": {},
   "outputs": [],
   "source": [
    "def drop_features(df):\n",
    "    df.drop(['PassengerId','Name', 'Ticket', 'Cabin', 'Age', 'Fare'], axis=1, inplace=True)\n",
    "\n",
    "    y = df['Survived']\n",
    "    df = df.drop('Survived', axis=1, inplace=False)\n",
    "    return df, y"
   ]
  },
  {
   "cell_type": "code",
   "execution_count": null,
   "id": "ca26b4c2-b88a-4e29-8c38-b15da0cf6f90",
   "metadata": {},
   "outputs": [],
   "source": [
    "X, y = drop_features(train_df)\n",
    "\n",
    "feature = X.columns\n",
    "predict_df = predict_df[feature]\n",
    "predict_df"
   ]
  },
  {
   "cell_type": "code",
   "execution_count": null,
   "id": "f4729cb7-ac89-479a-9762-66a2839c2c08",
   "metadata": {},
   "outputs": [],
   "source": [
    "X"
   ]
  }
 ],
 "metadata": {
  "kernelspec": {
   "display_name": "Python 3 (ipykernel)",
   "language": "python",
   "name": "python3"
  },
  "language_info": {
   "codemirror_mode": {
    "name": "ipython",
    "version": 3
   },
   "file_extension": ".py",
   "mimetype": "text/x-python",
   "name": "python",
   "nbconvert_exporter": "python",
   "pygments_lexer": "ipython3",
   "version": "3.12.3"
  }
 },
 "nbformat": 4,
 "nbformat_minor": 5
}
